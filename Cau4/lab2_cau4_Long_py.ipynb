{
 "cells": [
  {
   "cell_type": "code",
   "execution_count": 1,
   "id": "1dea81ac-c68f-46c5-9d63-4cdac794fe6b",
   "metadata": {},
   "outputs": [],
   "source": [
    "import numpy as np\n",
    "import pandas as pd"
   ]
  },
  {
   "cell_type": "code",
   "execution_count": 2,
   "id": "b7f83bf5-f73d-4c88-a083-0907fdfdca2d",
   "metadata": {},
   "outputs": [],
   "source": [
    "db_lab2 = pd.read_csv(\"VIETNAM NATIONAL HIGHSCHOOL EXAM SCORE 2018.csv\")"
   ]
  },
  {
   "cell_type": "code",
   "execution_count": 3,
   "id": "45b2bc2c-9b35-4988-9dc5-df83f078ae32",
   "metadata": {},
   "outputs": [
    {
     "data": {
      "text/html": [
       "<div>\n",
       "<style scoped>\n",
       "    .dataframe tbody tr th:only-of-type {\n",
       "        vertical-align: middle;\n",
       "    }\n",
       "\n",
       "    .dataframe tbody tr th {\n",
       "        vertical-align: top;\n",
       "    }\n",
       "\n",
       "    .dataframe thead th {\n",
       "        text-align: right;\n",
       "    }\n",
       "</style>\n",
       "<table border=\"1\" class=\"dataframe\">\n",
       "  <thead>\n",
       "    <tr style=\"text-align: right;\">\n",
       "      <th></th>\n",
       "      <th>Unnamed: 0</th>\n",
       "      <th>Diem</th>\n",
       "      <th>Khoi</th>\n",
       "    </tr>\n",
       "  </thead>\n",
       "  <tbody>\n",
       "    <tr>\n",
       "      <th>0</th>\n",
       "      <td>1</td>\n",
       "      <td>12.60</td>\n",
       "      <td>KhoiB</td>\n",
       "    </tr>\n",
       "    <tr>\n",
       "      <th>1</th>\n",
       "      <td>2</td>\n",
       "      <td>22.05</td>\n",
       "      <td>KhoiA1</td>\n",
       "    </tr>\n",
       "    <tr>\n",
       "      <th>2</th>\n",
       "      <td>3</td>\n",
       "      <td>15.10</td>\n",
       "      <td>KhoiB</td>\n",
       "    </tr>\n",
       "    <tr>\n",
       "      <th>3</th>\n",
       "      <td>4</td>\n",
       "      <td>10.70</td>\n",
       "      <td>KhoiA1</td>\n",
       "    </tr>\n",
       "    <tr>\n",
       "      <th>4</th>\n",
       "      <td>5</td>\n",
       "      <td>14.75</td>\n",
       "      <td>KhoiC</td>\n",
       "    </tr>\n",
       "    <tr>\n",
       "      <th>...</th>\n",
       "      <td>...</td>\n",
       "      <td>...</td>\n",
       "      <td>...</td>\n",
       "    </tr>\n",
       "    <tr>\n",
       "      <th>995</th>\n",
       "      <td>996</td>\n",
       "      <td>18.80</td>\n",
       "      <td>KhoiA</td>\n",
       "    </tr>\n",
       "    <tr>\n",
       "      <th>996</th>\n",
       "      <td>997</td>\n",
       "      <td>16.25</td>\n",
       "      <td>KhoiA</td>\n",
       "    </tr>\n",
       "    <tr>\n",
       "      <th>997</th>\n",
       "      <td>998</td>\n",
       "      <td>18.80</td>\n",
       "      <td>KhoiB</td>\n",
       "    </tr>\n",
       "    <tr>\n",
       "      <th>998</th>\n",
       "      <td>999</td>\n",
       "      <td>14.20</td>\n",
       "      <td>KhoiB</td>\n",
       "    </tr>\n",
       "    <tr>\n",
       "      <th>999</th>\n",
       "      <td>1000</td>\n",
       "      <td>14.80</td>\n",
       "      <td>KhoiB</td>\n",
       "    </tr>\n",
       "  </tbody>\n",
       "</table>\n",
       "<p>1000 rows × 3 columns</p>\n",
       "</div>"
      ],
      "text/plain": [
       "     Unnamed: 0   Diem    Khoi\n",
       "0             1  12.60   KhoiB\n",
       "1             2  22.05  KhoiA1\n",
       "2             3  15.10   KhoiB\n",
       "3             4  10.70  KhoiA1\n",
       "4             5  14.75   KhoiC\n",
       "..          ...    ...     ...\n",
       "995         996  18.80   KhoiA\n",
       "996         997  16.25   KhoiA\n",
       "997         998  18.80   KhoiB\n",
       "998         999  14.20   KhoiB\n",
       "999        1000  14.80   KhoiB\n",
       "\n",
       "[1000 rows x 3 columns]"
      ]
     },
     "execution_count": 3,
     "metadata": {},
     "output_type": "execute_result"
    }
   ],
   "source": [
    "db_lab2"
   ]
  },
  {
   "cell_type": "code",
   "execution_count": 19,
   "id": "c7fe618d-cd14-409d-ab1c-adbf8b5de5c1",
   "metadata": {},
   "outputs": [],
   "source": [
    "grouped_data = db_lab2.groupby(\"Khoi\")[\"Diem\"].apply(list)"
   ]
  },
  {
   "cell_type": "code",
   "execution_count": 20,
   "id": "bf72f850-e73b-43b6-a936-b5048ba9bdba",
   "metadata": {},
   "outputs": [
    {
     "data": {
      "text/plain": [
       "Khoi\n",
       "KhoiA     [14.4, 20.9, 13.6, 20.85, 16.2, 14.25, 15.4, 1...\n",
       "KhoiA1    [22.05, 10.7, 15.45, 10.9, 16.6, 12.2, 14.5, 1...\n",
       "KhoiB     [12.6, 15.1, 14.6, 15.65, 19.55, 15.15, 16.5, ...\n",
       "KhoiC     [14.75, 8.0, 14.75, 14.75, 13.0, 16.0, 19.5, 1...\n",
       "Name: Diem, dtype: object"
      ]
     },
     "execution_count": 20,
     "metadata": {},
     "output_type": "execute_result"
    }
   ],
   "source": [
    "grouped_data"
   ]
  },
  {
   "cell_type": "code",
   "execution_count": 21,
   "id": "b8cdb53c-b640-4e8e-9af4-faca92a26648",
   "metadata": {},
   "outputs": [],
   "source": [
    "from scipy.stats import levene"
   ]
  },
  {
   "cell_type": "code",
   "execution_count": 26,
   "id": "5232c25f-27a3-448f-a27f-28ff11da129a",
   "metadata": {},
   "outputs": [],
   "source": [
    "stat, p = levene(*grouped_data, center='mean')"
   ]
  },
  {
   "cell_type": "code",
   "execution_count": 27,
   "id": "6a424060-cc72-4bbb-85a7-e425d8f318bb",
   "metadata": {},
   "outputs": [
    {
     "name": "stdout",
     "output_type": "stream",
     "text": [
      "1.5142518859180483 0.20921586158616753\n"
     ]
    }
   ],
   "source": [
    "print(stat, p)"
   ]
  },
  {
   "cell_type": "code",
   "execution_count": 28,
   "id": "c07c60a6-1301-4361-869d-ae032ffb6b7e",
   "metadata": {},
   "outputs": [],
   "source": [
    "import scipy.stats as stats"
   ]
  },
  {
   "cell_type": "code",
   "execution_count": 29,
   "id": "b1b413b3-f5e0-493f-87e9-39372864b929",
   "metadata": {},
   "outputs": [
    {
     "name": "stdout",
     "output_type": "stream",
     "text": [
      "3.5285453984081045 0.014524955156054894\n"
     ]
    }
   ],
   "source": [
    "fvalue, pvalue=stats.f_oneway(*grouped_data)\n",
    "print(fvalue, pvalue)"
   ]
  },
  {
   "cell_type": "code",
   "execution_count": null,
   "id": "03f58077-4012-4520-9dce-d6f883928ef2",
   "metadata": {},
   "outputs": [],
   "source": []
  }
 ],
 "metadata": {
  "kernelspec": {
   "display_name": "Python 3 (ipykernel)",
   "language": "python",
   "name": "python3"
  },
  "language_info": {
   "codemirror_mode": {
    "name": "ipython",
    "version": 3
   },
   "file_extension": ".py",
   "mimetype": "text/x-python",
   "name": "python",
   "nbconvert_exporter": "python",
   "pygments_lexer": "ipython3",
   "version": "3.11.7"
  }
 },
 "nbformat": 4,
 "nbformat_minor": 5
}
