{
 "cells": [
  {
   "cell_type": "code",
   "execution_count": 17,
   "id": "f649f12c-7dee-43f3-a0b6-7cb0778b7836",
   "metadata": {},
   "outputs": [],
   "source": [
    "import pandas as pd"
   ]
  },
  {
   "cell_type": "code",
   "execution_count": 18,
   "id": "3be21a8b-fa7f-4bf8-aac1-e4c2688ad74b",
   "metadata": {},
   "outputs": [],
   "source": [
    "data = pd.read_csv(\"lab2_insurance.csv\")"
   ]
  },
  {
   "cell_type": "code",
   "execution_count": 19,
   "id": "aa24ed10-886a-4f96-97f3-a93bc86e5510",
   "metadata": {},
   "outputs": [
    {
     "data": {
      "text/html": [
       "<div>\n",
       "<style scoped>\n",
       "    .dataframe tbody tr th:only-of-type {\n",
       "        vertical-align: middle;\n",
       "    }\n",
       "\n",
       "    .dataframe tbody tr th {\n",
       "        vertical-align: top;\n",
       "    }\n",
       "\n",
       "    .dataframe thead th {\n",
       "        text-align: right;\n",
       "    }\n",
       "</style>\n",
       "<table border=\"1\" class=\"dataframe\">\n",
       "  <thead>\n",
       "    <tr style=\"text-align: right;\">\n",
       "      <th></th>\n",
       "      <th>Education</th>\n",
       "      <th>Satisfaction</th>\n",
       "    </tr>\n",
       "  </thead>\n",
       "  <tbody>\n",
       "    <tr>\n",
       "      <th>0</th>\n",
       "      <td>College graduate</td>\n",
       "      <td>5</td>\n",
       "    </tr>\n",
       "    <tr>\n",
       "      <th>1</th>\n",
       "      <td>College graduate</td>\n",
       "      <td>3</td>\n",
       "    </tr>\n",
       "    <tr>\n",
       "      <th>2</th>\n",
       "      <td>College graduate</td>\n",
       "      <td>5</td>\n",
       "    </tr>\n",
       "    <tr>\n",
       "      <th>3</th>\n",
       "      <td>College graduate</td>\n",
       "      <td>3</td>\n",
       "    </tr>\n",
       "    <tr>\n",
       "      <th>4</th>\n",
       "      <td>College graduate</td>\n",
       "      <td>3</td>\n",
       "    </tr>\n",
       "  </tbody>\n",
       "</table>\n",
       "</div>"
      ],
      "text/plain": [
       "          Education  Satisfaction\n",
       "0  College graduate             5\n",
       "1  College graduate             3\n",
       "2  College graduate             5\n",
       "3  College graduate             3\n",
       "4  College graduate             3"
      ]
     },
     "execution_count": 19,
     "metadata": {},
     "output_type": "execute_result"
    }
   ],
   "source": [
    "data.head()"
   ]
  },
  {
   "cell_type": "code",
   "execution_count": 20,
   "id": "4c9a2d7d-c473-4586-ba82-238b8e710ebf",
   "metadata": {},
   "outputs": [],
   "source": [
    "sep=data.groupby('Education')['Satisfaction'].apply(list)"
   ]
  },
  {
   "cell_type": "code",
   "execution_count": 23,
   "id": "4c298f65-aaed-424a-b4a0-60708603fbdc",
   "metadata": {},
   "outputs": [
    {
     "name": "stdout",
     "output_type": "stream",
     "text": [
      "Education\n",
      "College graduate    [5, 3, 5, 3, 3, 3, 3, 4, 2]\n",
      "Graduate degree        [3, 4, 5, 5, 5, 4, 5, 5]\n",
      "Some college              [4, 1, 4, 2, 3, 4, 4]\n",
      "Name: Satisfaction, dtype: object\n"
     ]
    }
   ],
   "source": [
    "print(sep)"
   ]
  },
  {
   "cell_type": "code",
   "execution_count": 25,
   "id": "d13e3f1d-4e63-4dd7-86fa-ebc15a9496a0",
   "metadata": {},
   "outputs": [],
   "source": [
    "from scipy.stats import levene\n",
    "stat, p = levene(*sep, center='mean')"
   ]
  },
  {
   "cell_type": "code",
   "execution_count": 27,
   "id": "e9ccbdca-a9e8-4a75-9c94-e30bd8e57d2f",
   "metadata": {},
   "outputs": [
    {
     "name": "stdout",
     "output_type": "stream",
     "text": [
      "0.9433580072525427 0.4052061669935292\n"
     ]
    }
   ],
   "source": [
    "print(stat, p)"
   ]
  },
  {
   "cell_type": "code",
   "execution_count": null,
   "id": "401a732c-e99f-4a3e-ba58-fd6eb95d6521",
   "metadata": {},
   "outputs": [],
   "source": []
  },
  {
   "cell_type": "code",
   "execution_count": null,
   "id": "2de37290-d41a-44c8-b274-ad0e557d7a24",
   "metadata": {},
   "outputs": [],
   "source": []
  }
 ],
 "metadata": {
  "kernelspec": {
   "display_name": "Python 3 (ipykernel)",
   "language": "python",
   "name": "python3"
  },
  "language_info": {
   "codemirror_mode": {
    "name": "ipython",
    "version": 3
   },
   "file_extension": ".py",
   "mimetype": "text/x-python",
   "name": "python",
   "nbconvert_exporter": "python",
   "pygments_lexer": "ipython3",
   "version": "3.12.2"
  }
 },
 "nbformat": 4,
 "nbformat_minor": 5
}
