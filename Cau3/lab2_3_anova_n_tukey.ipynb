{
 "cells": [
  {
   "cell_type": "code",
   "execution_count": 40,
   "metadata": {},
   "outputs": [],
   "source": [
    "import pandas as pd\n",
    "from scipy.stats import f_oneway\n",
    "from scipy.stats import f\n",
    "from statsmodels.stats.multicomp import pairwise_tukeyhsd"
   ]
  },
  {
   "cell_type": "code",
   "execution_count": 18,
   "metadata": {},
   "outputs": [
    {
     "name": "stdout",
     "output_type": "stream",
     "text": [
      "<class 'pandas.core.frame.DataFrame'>\n",
      "RangeIndex: 24 entries, 0 to 23\n",
      "Data columns (total 2 columns):\n",
      " #   Column        Non-Null Count  Dtype \n",
      "---  ------        --------------  ----- \n",
      " 0   Education     24 non-null     object\n",
      " 1   Satisfaction  24 non-null     int64 \n",
      "dtypes: int64(1), object(1)\n",
      "memory usage: 516.0+ bytes\n"
     ]
    }
   ],
   "source": [
    "data = pd.read_excel(\"anova_n_tukey.xlsx\")\n",
    "data.info()"
   ]
  },
  {
   "cell_type": "code",
   "execution_count": 22,
   "metadata": {},
   "outputs": [
    {
     "name": "stdout",
     "output_type": "stream",
     "text": [
      "Education\n",
      "College graduate    [5, 3, 5, 3, 3, 3, 3, 4, 2]\n",
      "Graduate degree        [3, 4, 5, 5, 5, 4, 5, 5]\n",
      "Some college              [4, 1, 4, 2, 3, 4, 4]\n",
      "Name: Satisfaction, dtype: object\n"
     ]
    }
   ],
   "source": [
    "sep = data.groupby('Education')['Satisfaction'].apply(list)\n",
    "print(sep)"
   ]
  },
  {
   "cell_type": "code",
   "execution_count": 49,
   "metadata": {},
   "outputs": [
    {
     "name": "stdout",
     "output_type": "stream",
     "text": [
      "ANOVA f-value: 3.9246517319277117\n",
      "ANOVA f-crit: 3.4668001115424154\n",
      "ANOVA p-value: 0.035635397564889974\n"
     ]
    }
   ],
   "source": [
    "anova_result = f_oneway(*sep)\n",
    "f_crit = f.ppf(q=1-.05, dfn=3-1, dfd=24-3)\n",
    "\n",
    "print(\"ANOVA f-value:\", anova_result.statistic)\n",
    "print(\"ANOVA f-crit:\", f_crit)\n",
    "print(\"ANOVA p-value:\", anova_result.pvalue)"
   ]
  },
  {
   "cell_type": "code",
   "execution_count": 43,
   "metadata": {},
   "outputs": [
    {
     "name": "stdout",
     "output_type": "stream",
     "text": [
      "          Multiple Comparison of Means - Tukey HSD, FWER=0.05          \n",
      "=======================================================================\n",
      "     group1           group2     meandiff p-adj   lower   upper  reject\n",
      "-----------------------------------------------------------------------\n",
      "College graduate Graduate degree   1.0556 0.1003 -0.1715  2.2826  False\n",
      "College graduate    Some college  -0.3016 0.8231 -1.5742  0.9711  False\n",
      " Graduate degree    Some college  -1.3571 0.0409 -2.6641 -0.0502   True\n",
      "-----------------------------------------------------------------------\n"
     ]
    }
   ],
   "source": [
    "tukey = pairwise_tukeyhsd(endog=data['Satisfaction'], groups=data['Education'], alpha=0.05)\n",
    "print(tukey)"
   ]
  }
 ],
 "metadata": {
  "kernelspec": {
   "display_name": "Python 3",
   "language": "python",
   "name": "python3"
  },
  "language_info": {
   "codemirror_mode": {
    "name": "ipython",
    "version": 3
   },
   "file_extension": ".py",
   "mimetype": "text/x-python",
   "name": "python",
   "nbconvert_exporter": "python",
   "pygments_lexer": "ipython3",
   "version": "3.11.4"
  }
 },
 "nbformat": 4,
 "nbformat_minor": 2
}
