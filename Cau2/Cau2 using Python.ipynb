{
 "cells": [
  {
   "cell_type": "code",
   "execution_count": 21,
   "metadata": {},
   "outputs": [],
   "source": [
    "import pandas as pd\n",
    "from scipy.stats import chi2_contingency\n",
    "import scipy.stats"
   ]
  },
  {
   "cell_type": "code",
   "execution_count": 22,
   "metadata": {},
   "outputs": [
    {
     "data": {
      "text/html": [
       "<div>\n",
       "<style scoped>\n",
       "    .dataframe tbody tr th:only-of-type {\n",
       "        vertical-align: middle;\n",
       "    }\n",
       "\n",
       "    .dataframe tbody tr th {\n",
       "        vertical-align: top;\n",
       "    }\n",
       "\n",
       "    .dataframe thead th {\n",
       "        text-align: right;\n",
       "    }\n",
       "</style>\n",
       "<table border=\"1\" class=\"dataframe\">\n",
       "  <thead>\n",
       "    <tr style=\"text-align: right;\">\n",
       "      <th></th>\n",
       "      <th>Respondent</th>\n",
       "      <th>Gender</th>\n",
       "      <th>Brand Preference</th>\n",
       "    </tr>\n",
       "  </thead>\n",
       "  <tbody>\n",
       "    <tr>\n",
       "      <th>0</th>\n",
       "      <td>1</td>\n",
       "      <td>Male</td>\n",
       "      <td>Brand 3</td>\n",
       "    </tr>\n",
       "    <tr>\n",
       "      <th>1</th>\n",
       "      <td>2</td>\n",
       "      <td>Female</td>\n",
       "      <td>Brand 3</td>\n",
       "    </tr>\n",
       "    <tr>\n",
       "      <th>2</th>\n",
       "      <td>3</td>\n",
       "      <td>Male</td>\n",
       "      <td>Brand 3</td>\n",
       "    </tr>\n",
       "    <tr>\n",
       "      <th>3</th>\n",
       "      <td>4</td>\n",
       "      <td>Male</td>\n",
       "      <td>Brand 1</td>\n",
       "    </tr>\n",
       "    <tr>\n",
       "      <th>4</th>\n",
       "      <td>5</td>\n",
       "      <td>Male</td>\n",
       "      <td>Brand 1</td>\n",
       "    </tr>\n",
       "    <tr>\n",
       "      <th>...</th>\n",
       "      <td>...</td>\n",
       "      <td>...</td>\n",
       "      <td>...</td>\n",
       "    </tr>\n",
       "    <tr>\n",
       "      <th>95</th>\n",
       "      <td>96</td>\n",
       "      <td>Male</td>\n",
       "      <td>Brand 1</td>\n",
       "    </tr>\n",
       "    <tr>\n",
       "      <th>96</th>\n",
       "      <td>97</td>\n",
       "      <td>Male</td>\n",
       "      <td>Brand 3</td>\n",
       "    </tr>\n",
       "    <tr>\n",
       "      <th>97</th>\n",
       "      <td>98</td>\n",
       "      <td>Female</td>\n",
       "      <td>Brand 3</td>\n",
       "    </tr>\n",
       "    <tr>\n",
       "      <th>98</th>\n",
       "      <td>99</td>\n",
       "      <td>Male</td>\n",
       "      <td>Brand 2</td>\n",
       "    </tr>\n",
       "    <tr>\n",
       "      <th>99</th>\n",
       "      <td>100</td>\n",
       "      <td>Female</td>\n",
       "      <td>Brand 1</td>\n",
       "    </tr>\n",
       "  </tbody>\n",
       "</table>\n",
       "<p>100 rows × 3 columns</p>\n",
       "</div>"
      ],
      "text/plain": [
       "    Respondent  Gender Brand Preference\n",
       "0            1    Male          Brand 3\n",
       "1            2  Female          Brand 3\n",
       "2            3    Male          Brand 3\n",
       "3            4    Male          Brand 1\n",
       "4            5    Male          Brand 1\n",
       "..         ...     ...              ...\n",
       "95          96    Male          Brand 1\n",
       "96          97    Male          Brand 3\n",
       "97          98  Female          Brand 3\n",
       "98          99    Male          Brand 2\n",
       "99         100  Female          Brand 1\n",
       "\n",
       "[100 rows x 3 columns]"
      ]
     },
     "execution_count": 22,
     "metadata": {},
     "output_type": "execute_result"
    }
   ],
   "source": [
    "data = pd.read_csv(\"energy_survey_file_origional.csv\")\n",
    "data"
   ]
  },
  {
   "cell_type": "code",
   "execution_count": 32,
   "metadata": {},
   "outputs": [
    {
     "name": "stdout",
     "output_type": "stream",
     "text": [
      "Brand Preference  Brand 1  Brand 2  Brand 3\n",
      "Gender                                     \n",
      "Female                  9        6       22\n",
      "Male                   25       17       21\n"
     ]
    }
   ],
   "source": [
    "pivot_data = pd.crosstab(data['Gender'], data['Brand Preference'])\n",
    "print(pivot_data)"
   ]
  },
  {
   "cell_type": "code",
   "execution_count": 33,
   "metadata": {},
   "outputs": [
    {
     "name": "stdout",
     "output_type": "stream",
     "text": [
      "Expected frequencies: \n",
      " [[12.58  8.51 15.91]\n",
      " [21.42 14.49 27.09]] \n",
      "\n",
      " deg_freedom(df):  2 \n",
      "p-value:  0.038921342064441915 \n",
      "X_square:  6.4924250792329055 \n",
      "Chi-square critical value:  5.991464547107979\n"
     ]
    }
   ],
   "source": [
    "X_square, p_value, deg_freeedom, expected_frequencies = chi2_contingency(pivot_data)\n",
    "#FC critical value / Chi-square critical value\n",
    "FCcritical = scipy.stats.chi2.ppf(1-0.05, 2)\n",
    "print(\"Expected frequencies: \\n\", expected_frequencies, \"\\n\\n\", \"deg_freedom(df): \",\n",
    "       deg_freeedom, \"\\np-value: \", p_value, \"\\nX_square: \", X_square, \"\\nChi-square critical value: \", FCcritical)"
   ]
  },
  {
   "cell_type": "code",
   "execution_count": 34,
   "metadata": {},
   "outputs": [
    {
     "name": "stdout",
     "output_type": "stream",
     "text": [
      "Bác bỏ H0\n",
      "Bác bỏ H0\n"
     ]
    }
   ],
   "source": [
    "if(p_value < 0.05 ) :\n",
    "    print(\"Bác bỏ H0\")\n",
    "else :\n",
    "    print (\"Chấp nhận H0\")\n",
    "if(X_square > FCcritical) :\n",
    "    print(\"Bác bỏ H0\")\n",
    "else :\n",
    "    print (\"Chấp nhận H0\")\n"
   ]
  }
 ],
 "metadata": {
  "kernelspec": {
   "display_name": "Python 3",
   "language": "python",
   "name": "python3"
  },
  "language_info": {
   "codemirror_mode": {
    "name": "ipython",
    "version": 3
   },
   "file_extension": ".py",
   "mimetype": "text/x-python",
   "name": "python",
   "nbconvert_exporter": "python",
   "pygments_lexer": "ipython3",
   "version": "3.11.8"
  }
 },
 "nbformat": 4,
 "nbformat_minor": 2
}
